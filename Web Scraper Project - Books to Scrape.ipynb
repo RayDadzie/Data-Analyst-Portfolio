{
 "cells": [
  {
   "cell_type": "markdown",
   "id": "25a5f9b2-40cc-47bf-b650-e842302a00df",
   "metadata": {},
   "source": [
    "##  Web Scraper Project - Books to Scrape"
   ]
  },
  {
   "cell_type": "code",
   "execution_count": 2,
   "id": "9a50c7bc-a701-469b-9565-14a2f17a9619",
   "metadata": {},
   "outputs": [],
   "source": [
    "# import libraries\n",
    "\n",
    "from bs4 import BeautifulSoup\n",
    "import requests\n",
    "import time\n",
    "import datetime\n",
    "\n",
    "import smtplib"
   ]
  },
  {
   "cell_type": "code",
   "execution_count": 8,
   "id": "a4e87908-07c0-4061-8e2e-5ba8e4675042",
   "metadata": {},
   "outputs": [
    {
     "name": "stdout",
     "output_type": "stream",
     "text": [
      "Title: A Light in the Attic\n",
      "Price: £51.77\n",
      "Availability: In stock (22 available)\n",
      "Rating: Three\n"
     ]
    }
   ],
   "source": [
    "import requests\n",
    "from bs4 import BeautifulSoup\n",
    "\n",
    "url = \"https://books.toscrape.com/catalogue/a-light-in-the-attic_1000/index.html\"\n",
    "page = requests.get(url)\n",
    "soup = BeautifulSoup(page.content, \"html.parser\")\n",
    "\n",
    "title = soup.find(\"h1\").get_text()\n",
    "price = soup.find(\"p\", class_=\"price_color\").get_text()\n",
    "availability = soup.find(\"p\", class_=\"instock availability\").get_text(strip=True)\n",
    "rating_tag = soup.find(\"p\", class_=\"star-rating\")\n",
    "rating = rating_tag.get(\"class\")[1] if rating_tag else \"No rating found\"\n",
    "\n",
    "print(f\"Title: {title}\")\n",
    "print(f\"Price: {price}\")\n",
    "print(f\"Availability: {availability}\")\n",
    "print(f\"Rating: {rating}\")\n"
   ]
  },
  {
   "cell_type": "code",
   "execution_count": 10,
   "id": "66446a20-50ea-49ca-97e1-e37d3fde28da",
   "metadata": {},
   "outputs": [
    {
     "name": "stdout",
     "output_type": "stream",
     "text": [
      "A Light in the Attic\n",
      "51.77\n"
     ]
    }
   ],
   "source": [
    "price = price.strip()[1:]\n",
    "title = title.strip()\n",
    "\n",
    "print(title)\n",
    "print(price)"
   ]
  },
  {
   "cell_type": "code",
   "execution_count": 19,
   "id": "a3092358-1b6a-4bb4-a5fb-964c81bb1349",
   "metadata": {},
   "outputs": [
    {
     "name": "stdout",
     "output_type": "stream",
     "text": [
      "Data saved to book_data.csv\n"
     ]
    }
   ],
   "source": [
    "import csv\n",
    "\n",
    "# Step 2: Write to CSV\n",
    "with open(\"book_data.csv\", mode=\"w\", newline=\"\", encoding=\"utf-8\") as file:\n",
    "    writer = csv.writer(file)\n",
    "    \n",
    "    # Write header row\n",
    "    writer.writerow([\"Title\", \"Price\", \"Availability\", \"Rating\", \"Date\"])\n",
    "    \n",
    "    # Write data row\n",
    "    writer.writerow([title, price, availability, rating, today])\n",
    "\n",
    "print(\"Data saved to book_data.csv\")\n"
   ]
  },
  {
   "cell_type": "code",
   "execution_count": 18,
   "id": "2772f9ee-10ae-4ef1-8118-9b2e04c396fb",
   "metadata": {},
   "outputs": [
    {
     "name": "stdout",
     "output_type": "stream",
     "text": [
      "2025-07-25\n"
     ]
    }
   ],
   "source": [
    "import datetime\n",
    "\n",
    "today = datetime.date.today()\n",
    "\n",
    "print(today)"
   ]
  },
  {
   "cell_type": "code",
   "execution_count": 20,
   "id": "ff042424-7c8b-4229-b44a-c13e831780c0",
   "metadata": {},
   "outputs": [],
   "source": [
    "def check_book():\n",
    "    \n",
    "    url = \"https://books.toscrape.com/catalogue/a-light-in-the-attic_1000/index.html\"\n",
    "    page = requests.get(url)\n",
    "    soup = BeautifulSoup(page.content, \"html.parser\")\n",
    "\n",
    "    title = soup.find(\"h1\").get_text(strip=True)\n",
    "    price = soup.find(\"p\", class_=\"price_color\").get_text(strip=True)\n",
    "    availability = soup.find(\"p\", class_=\"instock availability\").get_text(strip=True)\n",
    "\n",
    "    rating_tag = soup.find(\"p\", class_=\"star-rating\")\n",
    "    rating = rating_tag.get(\"class\")[1] if rating_tag else \"No rating\"\n",
    "\n",
    "    today = datetime.date.today()\n",
    "\n",
    "    data = [title, price, availability, rating, today]\n",
    "\n",
    "    with open(\"book_price_tracker.csv\", \"a+\", newline=\"\", encoding=\"utf-8\") as file:\n",
    "        writer = csv.writer(file)\n",
    "        writer.writerow(data)\n",
    "\n",
    "\n"
   ]
  },
  {
   "cell_type": "code",
   "execution_count": 21,
   "id": "595c1024-5441-48d9-9bc4-942b73502940",
   "metadata": {},
   "outputs": [],
   "source": [
    "check_book()"
   ]
  },
  {
   "cell_type": "code",
   "execution_count": null,
   "id": "d04a4678-3f63-49f7-998b-5d0ea3c64028",
   "metadata": {},
   "outputs": [
    {
     "name": "stdout",
     "output_type": "stream",
     "text": [
      "Checked and saved\n"
     ]
    }
   ],
   "source": [
    "while True:\n",
    "    check_book()\n",
    "    print(\"Checked and saved\")\n",
    "    time.sleep(3600)  # waits 1 hour before next run (change as needed)\n"
   ]
  },
  {
   "cell_type": "code",
   "execution_count": null,
   "id": "3ab91f68-9a0e-4e8e-b3f5-2e940493a3ae",
   "metadata": {},
   "outputs": [],
   "source": []
  },
  {
   "cell_type": "code",
   "execution_count": null,
   "id": "bcc2dbb3-580f-49b6-a49b-fa65fbc5e6c5",
   "metadata": {},
   "outputs": [],
   "source": []
  },
  {
   "cell_type": "code",
   "execution_count": null,
   "id": "62c6db4f-b3f0-474e-bf67-34b2d82d0772",
   "metadata": {},
   "outputs": [],
   "source": []
  },
  {
   "cell_type": "code",
   "execution_count": null,
   "id": "61f28cc1-133c-4396-9951-70bee0670ccd",
   "metadata": {},
   "outputs": [],
   "source": []
  },
  {
   "cell_type": "code",
   "execution_count": null,
   "id": "a714e395-ae1c-4a4d-ba90-0ebd6b38be3a",
   "metadata": {},
   "outputs": [],
   "source": []
  }
 ],
 "metadata": {
  "kernelspec": {
   "display_name": "Python 3 (ipykernel)",
   "language": "python",
   "name": "python3"
  },
  "language_info": {
   "codemirror_mode": {
    "name": "ipython",
    "version": 3
   },
   "file_extension": ".py",
   "mimetype": "text/x-python",
   "name": "python",
   "nbconvert_exporter": "python",
   "pygments_lexer": "ipython3",
   "version": "3.12.7"
  }
 },
 "nbformat": 4,
 "nbformat_minor": 5
}
